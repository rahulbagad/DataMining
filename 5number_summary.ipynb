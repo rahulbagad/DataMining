{
 "cells": [
  {
   "cell_type": "code",
   "execution_count": 9,
   "metadata": {
    "collapsed": true
   },
   "outputs": [],
   "source": [
    "import numpy as np\n",
    "import matplotlib.pyplot as plt\n",
    "%matplotlib inline\n",
    "\n",
    "#function for 1st Quartile\n",
    "def Q1(Data):\n",
    "    temp=Data[:len(Data)/2]\n",
    "    return np.median(temp)\n",
    "    \n",
    "#function for 3rd Quartile\n",
    "def Q3(Data):\n",
    "    temp=Data[len(Data)/2:]\n",
    "    return np.median(temp)"
   ]
  },
  {
   "cell_type": "code",
   "execution_count": 7,
   "metadata": {
    "collapsed": false
   },
   "outputs": [
    {
     "name": "stdout",
     "output_type": "stream",
     "text": [
      "input values :12 34 56 78 90 23 45 56 68 78 9\n",
      "max value: 90\n",
      "Min Value: 9\n",
      "Median Value: 56.0\n",
      "1st Quartile: 23.0\n",
      "3rd Quartile: 73.0\n"
     ]
    },
    {
     "name": "stderr",
     "output_type": "stream",
     "text": [
      "/home/rahul/anaconda3/lib/python3.6/site-packages/ipykernel/__main__.py:6: VisibleDeprecationWarning: using a non-integer number instead of an integer will result in an error in the future\n",
      "/home/rahul/anaconda3/lib/python3.6/site-packages/ipykernel/__main__.py:11: VisibleDeprecationWarning: using a non-integer number instead of an integer will result in an error in the future\n"
     ]
    }
   ],
   "source": [
    "DataSet=[int(x) for x in input(\"input values :\").split()]\n",
    "DataSet\n",
    "DataSetNP=np.asarray(DataSet)\n",
    "DataSetNP.sort()\n",
    "print(\"max value:\",np.max(DataSetNP))\n",
    "print(\"Min Value:\",np.min(DataSetNP))\n",
    "print(\"Median Value:\",np.median(DataSetNP))\n",
    "print(\"1st Quartile:\",Q1(DataSetNP))\n",
    "print(\"3rd Quartile:\",Q3(DataSetNP))\n",
    "\n"
   ]
  },
  {
   "cell_type": "code",
   "execution_count": 10,
   "metadata": {
    "collapsed": false
   },
   "outputs": [
    {
     "data": {
      "text/plain": [
       "{'boxes': [<matplotlib.lines.Line2D at 0x7fbdc72b2cc0>],\n",
       " 'caps': [<matplotlib.lines.Line2D at 0x7fbdc72c46d8>,\n",
       "  <matplotlib.lines.Line2D at 0x7fbdc72c4ef0>],\n",
       " 'fliers': [<matplotlib.lines.Line2D at 0x7fbdc72cbf60>],\n",
       " 'means': [],\n",
       " 'medians': [<matplotlib.lines.Line2D at 0x7fbdc72cb0f0>],\n",
       " 'whiskers': [<matplotlib.lines.Line2D at 0x7fbdc72b2e80>,\n",
       "  <matplotlib.lines.Line2D at 0x7fbdc72bee80>]}"
      ]
     },
     "execution_count": 10,
     "metadata": {},
     "output_type": "execute_result"
    },
    {
     "data": {
      "image/png": "[encoded data removed]",
      "text/plain": [
       "<matplotlib.figure.Figure at 0x7fbdc7343668>"
      ]
     },
     "metadata": {},
     "output_type": "display_data"
    }
   ],
   "source": [
    "plt.boxplot(DataSetNP)"
   ]
  }
 ],
 "metadata": {
  "kernelspec": {
   "display_name": "Python 3",
   "language": "python",
   "name": "python3"
  },
  "language_info": {
   "codemirror_mode": {
    "name": "ipython",
    "version": 3
   },
   "file_extension": ".py",
   "mimetype": "text/x-python",
   "name": "python",
   "nbconvert_exporter": "python",
   "pygments_lexer": "ipython3",
   "version": "3.6.0"
  }
 },
 "nbformat": 4,
 "nbformat_minor": 2
}
